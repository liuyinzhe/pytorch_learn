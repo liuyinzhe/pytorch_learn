{
 "cells": [
  {
   "cell_type": "code",
   "execution_count": 2,
   "id": "682fea97-5114-4b9f-a8e7-f5faa6debd15",
   "metadata": {},
   "outputs": [],
   "source": [
    "# 导入所需要的包，请保证torchvision已经在你的环境中安装好.\n",
    "# 在Windows需要单独安装torchvision包，在命令行运行pip install torchvision即可\n",
    "import torch\n",
    "import torch.nn as nn\n",
    "import torch.optim as optim\n",
    "import torch.nn.functional as F\n",
    "\n",
    "import torchvision.datasets as dsets\n",
    "import torchvision.transforms as transforms\n",
    "\n",
    "import matplotlib.pyplot as plt\n",
    "import numpy as np\n"
   ]
  },
  {
   "cell_type": "markdown",
   "id": "28cb882b-21f8-486f-b60b-5a174e200720",
   "metadata": {},
   "source": [
    "# 一、加载数据"
   ]
  },
  {
   "cell_type": "code",
   "execution_count": 3,
   "id": "669a3f03-9e7b-4bb6-8e83-46207bf28ccc",
   "metadata": {},
   "outputs": [],
   "source": [
    "# 定义超参数 \n",
    "image_size = 28  #图像的总尺寸28*28\n",
    "num_classes = 10  #标签的种类数\n",
    "num_epochs = 20  #训练的总循环周期\n",
    "batch_size = 64  #一个撮（批次）的大小，64张图片\n",
    "\n",
    "# 加载MINIST数据，如果没有下载过，就会在当前路径下新建/data子目录，并把文件存放其中\n",
    "# MNIST数据是属于torchvision包自带的数据，所以可以直接调用。\n",
    "# 在调用自己的数据的时候，我们可以用torchvision.datasets.ImageFolder或者torch.utils.data.TensorDataset来加载\n",
    "train_dataset = dsets.MNIST(root='./data',  #文件存放路径\n",
    "                            train=True,   #提取训练集\n",
    "                            transform=transforms.ToTensor(),  #将图像转化为Tensor，在加载数据的时候，就可以对图像做预处理\n",
    "                            download=True) #当找不到文件的时候，自动下载\n",
    "\n",
    "# 加载测试数据集\n",
    "test_dataset = dsets.MNIST(root='./data', \n",
    "                           train=False, \n",
    "                           transform=transforms.ToTensor())\n",
    "\n",
    "# 训练数据集的加载器，自动将数据分割成batch，顺序随机打乱\n",
    "train_loader = torch.utils.data.DataLoader(dataset=train_dataset, \n",
    "                                           batch_size=batch_size, \n",
    "                                           shuffle=True) #当dataloader的shuffle参数为True时，系统会自动调用这个采样器，实现打乱数据"
   ]
  },
  {
   "cell_type": "markdown",
   "id": "51681f89-d66a-468a-acb2-c90b8d604193",
   "metadata": {},
   "source": [
    "+ 参数原型\n",
    "```python\n",
    "DataLoader(dataset, batch_size=1, shuffle=False, sampler=None,\n",
    "           batch_sampler=None, num_workers=0, collate_fn=None,\n",
    "           pin_memory=False, drop_last=False, timeout=0,\n",
    "           worker_init_fn=None, *, prefetch_factor=2,\n",
    "           persistent_workers=False)\n",
    "\n",
    "```\n",
    "+ 参数说明\n",
    "```\n",
    "dataset (Dataset) – 加载数据的数据集。\n",
    "batch_size (int, optional) – 每个batch加载多少个样本(默认: 1)。\n",
    "shuffle (bool, optional) – 设置为True时会在每个epoch重新打乱数据(默认: False).\n",
    "sampler (Sampler, optional) – 定义从数据集中提取样本的策略，即生成index的方式，可以顺序也可以乱序\n",
    "num_workers (int, optional) – 用多少个子进程加载数据。0表示数据将在主进程中加载(默认: 0)\n",
    "collate_fn (callable, optional) –将一个batch的数据和标签进行合并操作。\n",
    "pin_memory (bool, optional) –设置pin_memory=True，则意味着生成的Tensor数据最开始是属于内存中的锁页内存，这样将内存的Tensor转义到GPU的显存就会更快一些。\n",
    "drop_last (bool, optional) – 如果数据集大小不能被batch size整除，则设置为True后可删除最后一个不完整的batch。如果设为False并且数据集的大小不能被batch size整除，则最后一个batch将更小。(默认: False)\n",
    "timeout，是用来设置数据读取的超时时间的，但超过这个时间还没读取到数据的话就会报错。\n",
    "```"
   ]
  },
  {
   "cell_type": "markdown",
   "id": "fc258236-0593-4c6a-b807-d497fd02c08a",
   "metadata": {},
   "source": [
    "### 数据图片转为dataset(以后学习)\n",
    "完整版Pytorch训练图像分类--Dataset篇 \n",
    "https://zhuanlan.zhihu.com/p/359998425"
   ]
  },
  {
   "cell_type": "code",
   "execution_count": 4,
   "id": "962c637a-c0c0-4caf-8f93-618acd19d28e",
   "metadata": {},
   "outputs": [],
   "source": [
    "'''我们希望将测试数据分成两部分，一部分作为校验数据，一部分作为测试数据。\n",
    "校验数据用于检测模型是否过拟合，并调整参数，测试数据检验整个模型的工作'''\n",
    "\n",
    "\n",
    "# 首先，我们定义下标数组indices，它相当于对所有test_dataset中数据的编码\n",
    "# 然后定义下标indices_val来表示校验集数据的那些下标，indices_test表示测试集的下标\n",
    "indices = range(len(test_dataset))\n",
    "indices_val = indices[:5000]\n",
    "indices_test = indices[5000:]\n",
    "\n",
    "# 根据这些下标，构造两个数据集的SubsetRandomSampler采样器，它会对下标进行采样\n",
    "sampler_val = torch.utils.data.sampler.SubsetRandomSampler(indices_val)\n",
    "sampler_test = torch.utils.data.sampler.SubsetRandomSampler(indices_test)\n",
    "\n",
    "# 根据两个采样器来定义加载器，注意将sampler_val和sampler_test分别赋值给了validation_loader和test_loader\n",
    "validation_loader = torch.utils.data.DataLoader(dataset =test_dataset,\n",
    "                                                batch_size = batch_size,\n",
    "                                                sampler = sampler_val\n",
    "                                               )\n",
    "test_loader = torch.utils.data.DataLoader(dataset=test_dataset, \n",
    "                                          batch_size=batch_size, \n",
    "                                          sampler = sampler_test\n",
    "                                         )"
   ]
  },
  {
   "cell_type": "markdown",
   "id": "0be65b71-bbb3-4bd2-853c-642be432002b",
   "metadata": {},
   "source": [
    "随便从数据集中读入一张图片，并绘制出来"
   ]
  },
  {
   "cell_type": "code",
   "execution_count": 5,
   "id": "20bb64cb-12fb-4394-8c6e-433f06984365",
   "metadata": {},
   "outputs": [
    {
     "name": "stdout",
     "output_type": "stream",
     "text": [
      "标签是： 0\n"
     ]
    },
    {
     "data": {
      "image/png": "[encoded data removed]",
      "text/plain": [
       "<Figure size 640x480 with 1 Axes>"
      ]
     },
     "metadata": {},
     "output_type": "display_data"
    }
   ],
   "source": [
    "#随便从数据集中读入一张图片，并绘制出来\n",
    "idx = 1000\n",
    "\n",
    "#dataset支持下标索引，其中提取出来的每一个元素为features，target格式，即属性和标签。[0]表示索引features\n",
    "muteimg = train_dataset[idx][0].numpy()\n",
    "#由于一般的图像包含rgb三个通道，而MINST数据集的图像都是灰度的，只有一个通道。因此，我们忽略通道，把图像看作一个灰度矩阵。\n",
    "#用imshow画图，会将灰度矩阵自动展现为彩色，不同灰度对应不同颜色：从黄到紫\n",
    "\n",
    "plt.imshow(muteimg[0,...])\n",
    "print('标签是：',train_dataset[idx][1])"
   ]
  },
  {
   "cell_type": "markdown",
   "id": "d174f0b3-23be-402c-aa04-d158206180e9",
   "metadata": {},
   "source": [
    "# 二、基本的卷积神经网络\n",
    "## 2.1 构建网络\n",
    "\n",
    "注：在这里，我们将主要调用PyTorch强大的nn.Module这个类来构建卷积神经网络。我们分成如下这几个步骤：\n",
    "```\n",
    "首先，我们构造ConvNet类，它是对类nn.Module的继承（即nn.Module是父类，ConvNet为子类。如果这些概念不熟悉，可参考面向对象编程）\n",
    "然后，我们复写init，以及forward这两个函数。第一个为构造函数，每当类ConvNet被具体化一个实例的时候，就会调用，forward则是 在运行神经网络正向的时候会被自动调用\n",
    "自定义自己的方法\n",
    "另一需要理解的是，ConvNet其实也是一个大容器，它里面有Conv2d，MaxPool2d等组件\n",
    "```"
   ]
  },
  {
   "cell_type": "code",
   "execution_count": 6,
   "id": "e6962534-60bb-4903-aa77-46ba6485cacd",
   "metadata": {},
   "outputs": [],
   "source": [
    "#定义卷积神经网络：4和8为人为指定的两个卷积层的厚度（feature map的数量）\n",
    "depth = [4, 8]\n",
    "# 类就是 属性(内部变量)  与内部函数的封装，只能用于一类特定数据\n",
    "class ConvNet(nn.Module):\n",
    "    # _init_ 初始化，最开始执行存储的对象变量\n",
    "    def __init__(self):\n",
    "        # 该函数在创建一个ConvNet对象的时候，即调用如下语句：net=ConvNet()，就会被调用\n",
    "        # 首先调用父类相应的构造函数\n",
    "        super(ConvNet, self).__init__()\n",
    "        \n",
    "        # 其次构造ConvNet需要用到的各个神经模块。\n",
    "        '''注意，定义组件并没有真正搭建这些组件，只是把基本建筑砖块先找好'''\n",
    "        # 卷积计算，基于不同卷积核心 计算在图片中不同位置的乘积求和(点积)，强化信号; \n",
    "        # 卷积 过程，每个方格代表一个像素点，像素点用数字表示像素，使用3*3的途中像素块，与一个像素位置以及周围像素点等宽长做乘积\n",
    "        # 乘积后求和，这个目标像素点的数值更新为这个和\n",
    "        # 补齐(padding)操作可以保持图片的大小\n",
    "        self.conv1 = nn.Conv2d(1, 4, 5, padding = 2) #定义一个卷积层，输入通道为1，输出通道为4，窗口大小为5，padding为2\n",
    "        \n",
    "        # 池化操作，作用:对邻域内特征点取最大 ；减小卷积层参数误差造成估计均值的偏移的误差，更多的保留纹理信息。\n",
    "        self.pool = nn.MaxPool2d(2, 2) #定义一个Pooling层，一个窗口为2*2的pooling运算\n",
    "        \n",
    "        self.conv2 = nn.Conv2d(depth[0], depth[1], 5, padding = 2) #第二层卷积，输入通道为depth[0], \n",
    "                                                                   #输出通道为depth[1]，窗口为5，padding为2\n",
    "        self.fc1 = nn.Linear(image_size // 4 * image_size // 4 * depth[1] , 512) \n",
    "                                                            #一个线性连接层，输入尺寸为最后一层立方体的平铺，输出层512个节点\n",
    "        self.fc2 = nn.Linear(512, num_classes) #最后一层线性分类单元，输入为512，输出为要做分类的类别数\n",
    "\n",
    "    def forward(self, x):\n",
    "        #该函数完成神经网络真正的前向运算，我们会在这里把各个组件进行实际的拼装\n",
    "        #x的尺寸：(batch_size, image_channels, image_width, image_height)\n",
    "        x = F.relu(self.conv1(x))  #第一层卷积，激活函数用ReLu，为了防止过拟合\n",
    "        #x的尺寸：(batch_size, num_filters, image_width, image_height)\n",
    "        x = self.pool(x) #第二层pooling，将图片变小\n",
    "        #x的尺寸：(batch_size, depth[0], image_width/2, image_height/2)\n",
    "        x = F.relu(self.conv2(x)) #第三层又是卷积，窗口为5，输入输出通道分别为depth[0]=4, depth[1]=8\n",
    "        #x的尺寸：(batch_size, depth[1], image_width/2, image_height/2)\n",
    "        x = self.pool(x) #第四层pooling，将图片缩小到原大小的1/4\n",
    "        #x的尺寸：(batch_size, depth[1], image_width/4, image_height/4)\n",
    "        \n",
    "        # 将立体的特征图Tensor，压成一个一维的向量\n",
    "        # view这个函数可以将一个tensor按指定的方式重新排布。\n",
    "        # 下面这个命令就是要让x按照batch_size * (image_size//4)^2*depth[1]的方式来排布向量\n",
    "        x = x.view(-1, image_size // 4 * image_size // 4 * depth[1])\n",
    "        #x的尺寸：(batch_size, depth[1]*image_width/4*image_height/4)\n",
    "        \n",
    "        x = F.relu(self.fc1(x)) #第五层为全链接，ReLu激活函数\n",
    "        #x的尺寸：(batch_size, 512)\n",
    "\n",
    "        x = F.dropout(x, training=self.training) #以默认为0.5的概率对这一层进行dropout操作，为了防止过拟合\n",
    "        x = self.fc2(x) #全链接\n",
    "        #x的尺寸：(batch_size, num_classes)\n",
    "        \n",
    "        x = F.log_softmax(x, dim = 0) #输出层为log_softmax，即概率对数值log(p(x))。采用log_softmax可以使得后面的交叉熵计算更快\n",
    "        return x\n",
    "    \n",
    "    def retrieve_features(self, x):\n",
    "        #该函数专门用于提取卷积神经网络的特征图的功能，返回feature_map1, feature_map2为前两层卷积层的特征图\n",
    "        feature_map1 = F.relu(self.conv1(x)) #完成第一层卷积\n",
    "        x = self.pool(feature_map1)  # 完成第一层pooling\n",
    "        feature_map2 = F.relu(self.conv2(x)) #第二层卷积，两层特征图都存储到了feature_map1, feature_map2中\n",
    "        return (feature_map1, feature_map2)\n",
    "    "
   ]
  },
  {
   "cell_type": "markdown",
   "id": "129ae15a-1154-44c7-83b0-fd487802d04d",
   "metadata": {},
   "source": [
    "#### 卷积算法  gif动图  https://github.com/vdumoulin/conv_arithmetic\n",
    "+ 函数原型\n",
    "```python\n",
    "    torch.nn.Conv2d(in_channels, out_channels, kernel_size, stride=1, padding=0, dilation=1, groups=1, bias=True, \n",
    "                    padding_mode='zeros', device=None, dtype=None)\n",
    "```\n",
    "\n",
    "+ 参数说明\n",
    "```\n",
    "in_channels：输入图像中的通道数\n",
    "out_channels：经过卷积运算产生的通道数\n",
    "kernel_size：卷积核大小，整数或者元组类型\n",
    "stride：卷积运算的步幅，整数或者元组类型，默认1\n",
    "padding：边界处的填充大小，整数或者元组类型，默认0\n",
    "padding_mode：填充方式，zeros、reflect、replicate、circular，默认是zeros\n",
    "zeros：零填充，在张量边界全部填充0\n",
    "reflect：镜像填充，以矩阵边缘为对称轴，将反方向的对称元素填充到最外围。\n",
    "replicate：复制填充，使用输入边界的复制值填充张量\n",
    "circular：循环填充，重复矩阵边界另一侧的元素\n",
    "具体区别请见代码案例\n",
    "dilation：控制点之间的距离，默认是1，如果大于1，则该运算又称为扩张卷积运算。\n",
    "```\n",
    "\n",
    "\n",
    "##### 池化\n",
    "+ 函数原型\n",
    "```python\n",
    "    torch.nn.MaxPool2d(kernel_size, stride=None, padding=0, dilation=1, return_indices=False, ceil_mode=False)\n",
    "```\n",
    "\n",
    "+ 参数说明\n",
    "```\n",
    "kernel_size ：表示做最大池化的窗口大小，可以是单个值，也可以是tuple元组\n",
    "stride ：步长，可以是单个值，也可以是tuple元组\n",
    "padding ：填充，可以是单个值，也可以是tuple元组\n",
    "dilation ：控制窗口中元素步幅\n",
    "return_indices ：布尔类型，返回最大值位置索引\n",
    "ceil_mode ：布尔类型，为True，用向上取整的方法，计算输出形状；默认是向下取整。\n",
    "\n",
    "```\n",
    "\n",
    "##### Pytorch 中nn.Conv2d的参数用法 channel含义详解\n",
    "https://www.cnblogs.com/L-shuai/p/15334221.html\n",
    "\n",
    "一般的RGB图片，channels 数量是 3 （红、绿、蓝）；而monochrome图片，channels 数量是 1\n",
    "\n",
    "一般 channels 的含义是: 每个卷积层中卷积核的数量。\n",
    "\n",
    "out_channels 经过卷积运算产生的通道数； \n"
   ]
  },
  {
   "cell_type": "markdown",
   "id": "d33ee28e-7678-499c-9cc6-b592f3ecd6a7",
   "metadata": {},
   "source": [
    "#### dropout()  防止过拟合，增强模型泛化能力\n",
    "```\n",
    "x = F.dropout(x, training=self.training) #以默认为0.5的概率对这一层进行dropout操作，为了防止过拟合\n",
    "# 根据一定概率，随机将其中的一些神经元暂时丢弃，以此增加模型的泛化能力\n",
    "```\n"
   ]
  },
  {
   "cell_type": "markdown",
   "id": "20cb2fee-857c-400a-b4e7-39e84912cb66",
   "metadata": {},
   "source": [
    "### 2.2 训练这个卷积神经网络"
   ]
  },
  {
   "cell_type": "code",
   "execution_count": 7,
   "id": "78ca633a-d5a9-4f41-8bc4-6bdf3c930c32",
   "metadata": {},
   "outputs": [],
   "source": [
    "def rightness(predictions, labels):\n",
    "    \"\"\"计算预测错误率的函数，其中predictions是模型给出的一组预测结果，batch_size行num_classes列的矩阵，labels是数据之中的正确答案\"\"\"\n",
    "    pred = torch.max(predictions.data, 1)[1] # 对于任意一行（一个样本）的输出值的第1个维度，求最大，得到每一行的最大元素的下标\n",
    "    rights = pred.eq(labels.data.view_as(pred)).sum() #将下标与labels中包含的类别进行比较，并累计得到比较正确的数量\n",
    "    return rights, len(labels) #返回正确的数量和这一次一共比较了多少元素"
   ]
  },
  {
   "cell_type": "markdown",
   "id": "e8e4ec74-7158-4a85-a4d1-acadd5addb20",
   "metadata": {},
   "source": [
    "### net.train() net.eval()\n",
    "\n",
    "训练阶段net.train()  会打开 dropout()\n",
    "\n",
    "非训练阶段net.eval()   会关闭 dropout(); 网络层数值固定"
   ]
  },
  {
   "cell_type": "code",
   "execution_count": 8,
   "id": "532385b0-7f90-4332-88a1-b71752305d91",
   "metadata": {},
   "outputs": [
    {
     "name": "stdout",
     "output_type": "stream",
     "text": [
      "(tensor(339), 5000)\n",
      "训练周期: 0 [0/60000 (0%)]\tLoss: 2.302699\t训练正确率: 10.94%\t校验正确率: 6.78%\n",
      "(tensor(991), 5000)\n",
      "训练周期: 0 [6400/60000 (11%)]\tLoss: 2.300124\t训练正确率: 10.63%\t校验正确率: 19.82%\n",
      "(tensor(1969), 5000)\n",
      "训练周期: 0 [12800/60000 (21%)]\tLoss: 2.286421\t训练正确率: 13.28%\t校验正确率: 39.38%\n",
      "(tensor(2337), 5000)\n",
      "训练周期: 0 [19200/60000 (32%)]\tLoss: 2.271824\t训练正确率: 17.28%\t校验正确率: 46.74%\n",
      "(tensor(2482), 5000)\n",
      "训练周期: 0 [25600/60000 (43%)]\tLoss: 2.181980\t训练正确率: 21.80%\t校验正确率: 49.64%\n",
      "(tensor(3232), 5000)\n",
      "训练周期: 0 [32000/60000 (53%)]\tLoss: 1.694565\t训练正确率: 26.17%\t校验正确率: 64.64%\n",
      "(tensor(3760), 5000)\n",
      "训练周期: 0 [38400/60000 (64%)]\tLoss: 1.016926\t训练正确率: 31.92%\t校验正确率: 75.20%\n",
      "(tensor(3948), 5000)\n",
      "训练周期: 0 [44800/60000 (75%)]\tLoss: 0.824693\t训练正确率: 37.59%\t校验正确率: 78.96%\n",
      "(tensor(4098), 5000)\n",
      "训练周期: 0 [51200/60000 (85%)]\tLoss: 0.534256\t训练正确率: 42.37%\t校验正确率: 81.96%\n",
      "(tensor(4133), 5000)\n",
      "训练周期: 0 [57600/60000 (96%)]\tLoss: 0.661179\t训练正确率: 46.43%\t校验正确率: 82.66%\n",
      "(tensor(4196), 5000)\n",
      "训练周期: 1 [0/60000 (0%)]\tLoss: 0.563090\t训练正确率: 81.25%\t校验正确率: 83.92%\n",
      "(tensor(4254), 5000)\n",
      "训练周期: 1 [6400/60000 (11%)]\tLoss: 0.668069\t训练正确率: 82.07%\t校验正确率: 85.08%\n",
      "(tensor(4314), 5000)\n",
      "训练周期: 1 [12800/60000 (21%)]\tLoss: 0.429540\t训练正确率: 82.89%\t校验正确率: 86.28%\n",
      "(tensor(4357), 5000)\n",
      "训练周期: 1 [19200/60000 (32%)]\tLoss: 0.471062\t训练正确率: 83.43%\t校验正确率: 87.14%\n",
      "(tensor(4411), 5000)\n",
      "训练周期: 1 [25600/60000 (43%)]\tLoss: 0.513210\t训练正确率: 84.15%\t校验正确率: 88.22%\n",
      "(tensor(4423), 5000)\n",
      "训练周期: 1 [32000/60000 (53%)]\tLoss: 0.370078\t训练正确率: 84.58%\t校验正确率: 88.46%\n",
      "(tensor(4467), 5000)\n",
      "训练周期: 1 [38400/60000 (64%)]\tLoss: 0.253290\t训练正确率: 84.95%\t校验正确率: 89.34%\n",
      "(tensor(4470), 5000)\n",
      "训练周期: 1 [44800/60000 (75%)]\tLoss: 0.228399\t训练正确率: 85.36%\t校验正确率: 89.40%\n",
      "(tensor(4526), 5000)\n",
      "训练周期: 1 [51200/60000 (85%)]\tLoss: 0.578981\t训练正确率: 85.83%\t校验正确率: 90.52%\n",
      "(tensor(4513), 5000)\n",
      "训练周期: 1 [57600/60000 (96%)]\tLoss: 0.306471\t训练正确率: 86.22%\t校验正确率: 90.26%\n",
      "(tensor(4575), 5000)\n",
      "训练周期: 2 [0/60000 (0%)]\tLoss: 0.354546\t训练正确率: 89.06%\t校验正确率: 91.50%\n",
      "(tensor(4552), 5000)\n",
      "训练周期: 2 [6400/60000 (11%)]\tLoss: 0.163778\t训练正确率: 90.02%\t校验正确率: 91.04%\n",
      "(tensor(4618), 5000)\n",
      "训练周期: 2 [12800/60000 (21%)]\tLoss: 0.167086\t训练正确率: 90.18%\t校验正确率: 92.36%\n",
      "(tensor(4583), 5000)\n",
      "训练周期: 2 [19200/60000 (32%)]\tLoss: 0.183737\t训练正确率: 90.58%\t校验正确率: 91.66%\n",
      "(tensor(4628), 5000)\n",
      "训练周期: 2 [25600/60000 (43%)]\tLoss: 0.330679\t训练正确率: 90.80%\t校验正确率: 92.56%\n",
      "(tensor(4630), 5000)\n",
      "训练周期: 2 [32000/60000 (53%)]\tLoss: 0.252217\t训练正确率: 91.03%\t校验正确率: 92.60%\n",
      "(tensor(4661), 5000)\n",
      "训练周期: 2 [38400/60000 (64%)]\tLoss: 0.224065\t训练正确率: 91.24%\t校验正确率: 93.22%\n",
      "(tensor(4656), 5000)\n",
      "训练周期: 2 [44800/60000 (75%)]\tLoss: 0.451955\t训练正确率: 91.33%\t校验正确率: 93.12%\n",
      "(tensor(4676), 5000)\n",
      "训练周期: 2 [51200/60000 (85%)]\tLoss: 0.151662\t训练正确率: 91.45%\t校验正确率: 93.52%\n",
      "(tensor(4652), 5000)\n",
      "训练周期: 2 [57600/60000 (96%)]\tLoss: 0.315998\t训练正确率: 91.54%\t校验正确率: 93.04%\n",
      "(tensor(4667), 5000)\n",
      "训练周期: 3 [0/60000 (0%)]\tLoss: 0.275195\t训练正确率: 90.62%\t校验正确率: 93.34%\n",
      "(tensor(4700), 5000)\n",
      "训练周期: 3 [6400/60000 (11%)]\tLoss: 0.149707\t训练正确率: 92.61%\t校验正确率: 94.00%\n",
      "(tensor(4696), 5000)\n",
      "训练周期: 3 [12800/60000 (21%)]\tLoss: 0.100195\t训练正确率: 92.90%\t校验正确率: 93.92%\n",
      "(tensor(4698), 5000)\n",
      "训练周期: 3 [19200/60000 (32%)]\tLoss: 0.251832\t训练正确率: 93.09%\t校验正确率: 93.96%\n",
      "(tensor(4723), 5000)\n",
      "训练周期: 3 [25600/60000 (43%)]\tLoss: 0.214961\t训练正确率: 93.27%\t校验正确率: 94.46%\n",
      "(tensor(4718), 5000)\n",
      "训练周期: 3 [32000/60000 (53%)]\tLoss: 0.193403\t训练正确率: 93.31%\t校验正确率: 94.36%\n",
      "(tensor(4708), 5000)\n",
      "训练周期: 3 [38400/60000 (64%)]\tLoss: 0.298842\t训练正确率: 93.41%\t校验正确率: 94.16%\n",
      "(tensor(4726), 5000)\n",
      "训练周期: 3 [44800/60000 (75%)]\tLoss: 0.072896\t训练正确率: 93.47%\t校验正确率: 94.52%\n",
      "(tensor(4719), 5000)\n",
      "训练周期: 3 [51200/60000 (85%)]\tLoss: 0.142989\t训练正确率: 93.57%\t校验正确率: 94.38%\n",
      "(tensor(4737), 5000)\n",
      "训练周期: 3 [57600/60000 (96%)]\tLoss: 0.105510\t训练正确率: 93.70%\t校验正确率: 94.74%\n",
      "(tensor(4757), 5000)\n",
      "训练周期: 4 [0/60000 (0%)]\tLoss: 0.321393\t训练正确率: 95.31%\t校验正确率: 95.14%\n",
      "(tensor(4729), 5000)\n",
      "训练周期: 4 [6400/60000 (11%)]\tLoss: 0.204357\t训练正确率: 94.15%\t校验正确率: 94.58%\n",
      "(tensor(4748), 5000)\n",
      "训练周期: 4 [12800/60000 (21%)]\tLoss: 0.239717\t训练正确率: 93.94%\t校验正确率: 94.96%\n",
      "(tensor(4759), 5000)\n",
      "训练周期: 4 [19200/60000 (32%)]\tLoss: 0.134174\t训练正确率: 94.23%\t校验正确率: 95.18%\n",
      "(tensor(4735), 5000)\n",
      "训练周期: 4 [25600/60000 (43%)]\tLoss: 0.157328\t训练正确率: 94.30%\t校验正确率: 94.70%\n",
      "(tensor(4761), 5000)\n",
      "训练周期: 4 [32000/60000 (53%)]\tLoss: 0.139061\t训练正确率: 94.42%\t校验正确率: 95.22%\n",
      "(tensor(4746), 5000)\n",
      "训练周期: 4 [38400/60000 (64%)]\tLoss: 0.119094\t训练正确率: 94.52%\t校验正确率: 94.92%\n",
      "(tensor(4761), 5000)\n",
      "训练周期: 4 [44800/60000 (75%)]\tLoss: 0.047681\t训练正确率: 94.61%\t校验正确率: 95.22%\n",
      "(tensor(4767), 5000)\n",
      "训练周期: 4 [51200/60000 (85%)]\tLoss: 0.255438\t训练正确率: 94.61%\t校验正确率: 95.34%\n",
      "(tensor(4762), 5000)\n",
      "训练周期: 4 [57600/60000 (96%)]\tLoss: 0.235675\t训练正确率: 94.68%\t校验正确率: 95.24%\n",
      "(tensor(4767), 5000)\n",
      "训练周期: 5 [0/60000 (0%)]\tLoss: 0.414365\t训练正确率: 89.06%\t校验正确率: 95.34%\n",
      "(tensor(4785), 5000)\n",
      "训练周期: 5 [6400/60000 (11%)]\tLoss: 0.204207\t训练正确率: 94.80%\t校验正确率: 95.70%\n",
      "(tensor(4782), 5000)\n",
      "训练周期: 5 [12800/60000 (21%)]\tLoss: 0.188434\t训练正确率: 95.33%\t校验正确率: 95.64%\n",
      "(tensor(4791), 5000)\n",
      "训练周期: 5 [19200/60000 (32%)]\tLoss: 0.317259\t训练正确率: 95.33%\t校验正确率: 95.82%\n",
      "(tensor(4783), 5000)\n",
      "训练周期: 5 [25600/60000 (43%)]\tLoss: 0.110374\t训练正确率: 95.38%\t校验正确率: 95.66%\n",
      "(tensor(4786), 5000)\n",
      "训练周期: 5 [32000/60000 (53%)]\tLoss: 0.183627\t训练正确率: 95.32%\t校验正确率: 95.72%\n",
      "(tensor(4809), 5000)\n",
      "训练周期: 5 [38400/60000 (64%)]\tLoss: 0.159493\t训练正确率: 95.35%\t校验正确率: 96.18%\n",
      "(tensor(4799), 5000)\n",
      "训练周期: 5 [44800/60000 (75%)]\tLoss: 0.145344\t训练正确率: 95.29%\t校验正确率: 95.98%\n",
      "(tensor(4802), 5000)\n",
      "训练周期: 5 [51200/60000 (85%)]\tLoss: 0.134190\t训练正确率: 95.33%\t校验正确率: 96.04%\n",
      "(tensor(4801), 5000)\n",
      "训练周期: 5 [57600/60000 (96%)]\tLoss: 0.154263\t训练正确率: 95.41%\t校验正确率: 96.02%\n",
      "(tensor(4784), 5000)\n",
      "训练周期: 6 [0/60000 (0%)]\tLoss: 0.076372\t训练正确率: 95.31%\t校验正确率: 95.68%\n",
      "(tensor(4783), 5000)\n",
      "训练周期: 6 [6400/60000 (11%)]\tLoss: 0.195552\t训练正确率: 95.17%\t校验正确率: 95.66%\n",
      "(tensor(4801), 5000)\n",
      "训练周期: 6 [12800/60000 (21%)]\tLoss: 0.043042\t训练正确率: 95.41%\t校验正确率: 96.02%\n",
      "(tensor(4802), 5000)\n",
      "训练周期: 6 [19200/60000 (32%)]\tLoss: 0.065960\t训练正确率: 95.60%\t校验正确率: 96.04%\n",
      "(tensor(4800), 5000)\n",
      "训练周期: 6 [25600/60000 (43%)]\tLoss: 0.095389\t训练正确率: 95.71%\t校验正确率: 96.00%\n",
      "(tensor(4824), 5000)\n",
      "训练周期: 6 [32000/60000 (53%)]\tLoss: 0.299950\t训练正确率: 95.73%\t校验正确率: 96.48%\n",
      "(tensor(4801), 5000)\n",
      "训练周期: 6 [38400/60000 (64%)]\tLoss: 0.130068\t训练正确率: 95.81%\t校验正确率: 96.02%\n",
      "(tensor(4791), 5000)\n",
      "训练周期: 6 [44800/60000 (75%)]\tLoss: 0.061041\t训练正确率: 95.87%\t校验正确率: 95.82%\n",
      "(tensor(4814), 5000)\n",
      "训练周期: 6 [51200/60000 (85%)]\tLoss: 0.162413\t训练正确率: 95.92%\t校验正确率: 96.28%\n",
      "(tensor(4810), 5000)\n",
      "训练周期: 6 [57600/60000 (96%)]\tLoss: 0.177731\t训练正确率: 96.00%\t校验正确率: 96.20%\n",
      "(tensor(4814), 5000)\n",
      "训练周期: 7 [0/60000 (0%)]\tLoss: 0.157890\t训练正确率: 93.75%\t校验正确率: 96.28%\n",
      "(tensor(4818), 5000)\n",
      "训练周期: 7 [6400/60000 (11%)]\tLoss: 0.073241\t训练正确率: 95.88%\t校验正确率: 96.36%\n",
      "(tensor(4812), 5000)\n",
      "训练周期: 7 [12800/60000 (21%)]\tLoss: 0.186846\t训练正确率: 96.11%\t校验正确率: 96.24%\n",
      "(tensor(4817), 5000)\n",
      "训练周期: 7 [19200/60000 (32%)]\tLoss: 0.128320\t训练正确率: 96.25%\t校验正确率: 96.34%\n",
      "(tensor(4823), 5000)\n",
      "训练周期: 7 [25600/60000 (43%)]\tLoss: 0.174078\t训练正确率: 96.39%\t校验正确率: 96.46%\n",
      "(tensor(4828), 5000)\n",
      "训练周期: 7 [32000/60000 (53%)]\tLoss: 0.020279\t训练正确率: 96.31%\t校验正确率: 96.56%\n",
      "(tensor(4820), 5000)\n",
      "训练周期: 7 [38400/60000 (64%)]\tLoss: 0.176119\t训练正确率: 96.33%\t校验正确率: 96.40%\n",
      "(tensor(4828), 5000)\n",
      "训练周期: 7 [44800/60000 (75%)]\tLoss: 0.185226\t训练正确率: 96.36%\t校验正确率: 96.56%\n",
      "(tensor(4832), 5000)\n",
      "训练周期: 7 [51200/60000 (85%)]\tLoss: 0.093836\t训练正确率: 96.35%\t校验正确率: 96.64%\n",
      "(tensor(4824), 5000)\n",
      "训练周期: 7 [57600/60000 (96%)]\tLoss: 0.091153\t训练正确率: 96.38%\t校验正确率: 96.48%\n",
      "(tensor(4834), 5000)\n",
      "训练周期: 8 [0/60000 (0%)]\tLoss: 0.041579\t训练正确率: 100.00%\t校验正确率: 96.68%\n",
      "(tensor(4824), 5000)\n",
      "训练周期: 8 [6400/60000 (11%)]\tLoss: 0.117065\t训练正确率: 96.84%\t校验正确率: 96.48%\n",
      "(tensor(4823), 5000)\n",
      "训练周期: 8 [12800/60000 (21%)]\tLoss: 0.033550\t训练正确率: 96.66%\t校验正确率: 96.46%\n",
      "(tensor(4838), 5000)\n",
      "训练周期: 8 [19200/60000 (32%)]\tLoss: 0.028626\t训练正确率: 96.72%\t校验正确率: 96.76%\n",
      "(tensor(4845), 5000)\n",
      "训练周期: 8 [25600/60000 (43%)]\tLoss: 0.136190\t训练正确率: 96.65%\t校验正确率: 96.90%\n",
      "(tensor(4830), 5000)\n",
      "训练周期: 8 [32000/60000 (53%)]\tLoss: 0.122588\t训练正确率: 96.62%\t校验正确率: 96.60%\n",
      "(tensor(4831), 5000)\n",
      "训练周期: 8 [38400/60000 (64%)]\tLoss: 0.069181\t训练正确率: 96.61%\t校验正确率: 96.62%\n",
      "(tensor(4839), 5000)\n",
      "训练周期: 8 [44800/60000 (75%)]\tLoss: 0.073229\t训练正确率: 96.59%\t校验正确率: 96.78%\n",
      "(tensor(4832), 5000)\n",
      "训练周期: 8 [51200/60000 (85%)]\tLoss: 0.055438\t训练正确率: 96.65%\t校验正确率: 96.64%\n",
      "(tensor(4840), 5000)\n",
      "训练周期: 8 [57600/60000 (96%)]\tLoss: 0.044723\t训练正确率: 96.69%\t校验正确率: 96.80%\n",
      "(tensor(4830), 5000)\n",
      "训练周期: 9 [0/60000 (0%)]\tLoss: 0.035841\t训练正确率: 100.00%\t校验正确率: 96.60%\n",
      "(tensor(4827), 5000)\n",
      "训练周期: 9 [6400/60000 (11%)]\tLoss: 0.052186\t训练正确率: 96.70%\t校验正确率: 96.54%\n",
      "(tensor(4848), 5000)\n",
      "训练周期: 9 [12800/60000 (21%)]\tLoss: 0.162416\t训练正确率: 96.89%\t校验正确率: 96.96%\n",
      "(tensor(4839), 5000)\n",
      "训练周期: 9 [19200/60000 (32%)]\tLoss: 0.157857\t训练正确率: 96.84%\t校验正确率: 96.78%\n",
      "(tensor(4840), 5000)\n",
      "训练周期: 9 [25600/60000 (43%)]\tLoss: 0.036442\t训练正确率: 96.87%\t校验正确率: 96.80%\n",
      "(tensor(4843), 5000)\n",
      "训练周期: 9 [32000/60000 (53%)]\tLoss: 0.088250\t训练正确率: 96.87%\t校验正确率: 96.86%\n",
      "(tensor(4847), 5000)\n",
      "训练周期: 9 [38400/60000 (64%)]\tLoss: 0.069195\t训练正确率: 96.89%\t校验正确率: 96.94%\n",
      "(tensor(4850), 5000)\n",
      "训练周期: 9 [44800/60000 (75%)]\tLoss: 0.084781\t训练正确率: 96.89%\t校验正确率: 97.00%\n",
      "(tensor(4848), 5000)\n",
      "训练周期: 9 [51200/60000 (85%)]\tLoss: 0.044343\t训练正确率: 96.87%\t校验正确率: 96.96%\n",
      "(tensor(4839), 5000)\n",
      "训练周期: 9 [57600/60000 (96%)]\tLoss: 0.140414\t训练正确率: 96.86%\t校验正确率: 96.78%\n",
      "(tensor(4864), 5000)\n",
      "训练周期: 10 [0/60000 (0%)]\tLoss: 0.123619\t训练正确率: 95.31%\t校验正确率: 97.28%\n",
      "(tensor(4841), 5000)\n",
      "训练周期: 10 [6400/60000 (11%)]\tLoss: 0.039933\t训练正确率: 97.01%\t校验正确率: 96.82%\n",
      "(tensor(4854), 5000)\n",
      "训练周期: 10 [12800/60000 (21%)]\tLoss: 0.110448\t训练正确率: 97.14%\t校验正确率: 97.08%\n",
      "(tensor(4844), 5000)\n",
      "训练周期: 10 [19200/60000 (32%)]\tLoss: 0.046613\t训练正确率: 97.27%\t校验正确率: 96.88%\n",
      "(tensor(4863), 5000)\n",
      "训练周期: 10 [25600/60000 (43%)]\tLoss: 0.145001\t训练正确率: 97.17%\t校验正确率: 97.26%\n",
      "(tensor(4865), 5000)\n",
      "训练周期: 10 [32000/60000 (53%)]\tLoss: 0.040597\t训练正确率: 97.22%\t校验正确率: 97.30%\n",
      "(tensor(4855), 5000)\n",
      "训练周期: 10 [38400/60000 (64%)]\tLoss: 0.157373\t训练正确率: 97.21%\t校验正确率: 97.10%\n",
      "(tensor(4861), 5000)\n",
      "训练周期: 10 [44800/60000 (75%)]\tLoss: 0.187518\t训练正确率: 97.16%\t校验正确率: 97.22%\n",
      "(tensor(4855), 5000)\n",
      "训练周期: 10 [51200/60000 (85%)]\tLoss: 0.172715\t训练正确率: 97.12%\t校验正确率: 97.10%\n",
      "(tensor(4858), 5000)\n",
      "训练周期: 10 [57600/60000 (96%)]\tLoss: 0.043170\t训练正确率: 97.14%\t校验正确率: 97.16%\n",
      "(tensor(4864), 5000)\n",
      "训练周期: 11 [0/60000 (0%)]\tLoss: 0.125342\t训练正确率: 95.31%\t校验正确率: 97.28%\n",
      "(tensor(4852), 5000)\n",
      "训练周期: 11 [6400/60000 (11%)]\tLoss: 0.027586\t训练正确率: 97.09%\t校验正确率: 97.04%\n",
      "(tensor(4850), 5000)\n",
      "训练周期: 11 [12800/60000 (21%)]\tLoss: 0.087542\t训练正确率: 97.26%\t校验正确率: 97.00%\n",
      "(tensor(4850), 5000)\n",
      "训练周期: 11 [19200/60000 (32%)]\tLoss: 0.134281\t训练正确率: 97.22%\t校验正确率: 97.00%\n",
      "(tensor(4846), 5000)\n",
      "训练周期: 11 [25600/60000 (43%)]\tLoss: 0.158363\t训练正确率: 97.26%\t校验正确率: 96.92%\n",
      "(tensor(4865), 5000)\n",
      "训练周期: 11 [32000/60000 (53%)]\tLoss: 0.164405\t训练正确率: 97.24%\t校验正确率: 97.30%\n",
      "(tensor(4859), 5000)\n",
      "训练周期: 11 [38400/60000 (64%)]\tLoss: 0.050200\t训练正确率: 97.18%\t校验正确率: 97.18%\n",
      "(tensor(4876), 5000)\n",
      "训练周期: 11 [44800/60000 (75%)]\tLoss: 0.039484\t训练正确率: 97.10%\t校验正确率: 97.52%\n",
      "(tensor(4862), 5000)\n",
      "训练周期: 11 [51200/60000 (85%)]\tLoss: 0.091089\t训练正确率: 97.14%\t校验正确率: 97.24%\n",
      "(tensor(4872), 5000)\n",
      "训练周期: 11 [57600/60000 (96%)]\tLoss: 0.024820\t训练正确率: 97.17%\t校验正确率: 97.44%\n",
      "(tensor(4852), 5000)\n",
      "训练周期: 12 [0/60000 (0%)]\tLoss: 0.083060\t训练正确率: 95.31%\t校验正确率: 97.04%\n",
      "(tensor(4863), 5000)\n",
      "训练周期: 12 [6400/60000 (11%)]\tLoss: 0.024096\t训练正确率: 97.23%\t校验正确率: 97.26%\n",
      "(tensor(4862), 5000)\n",
      "训练周期: 12 [12800/60000 (21%)]\tLoss: 0.089192\t训练正确率: 97.38%\t校验正确率: 97.24%\n",
      "(tensor(4862), 5000)\n",
      "训练周期: 12 [19200/60000 (32%)]\tLoss: 0.071399\t训练正确率: 97.43%\t校验正确率: 97.24%\n",
      "(tensor(4869), 5000)\n",
      "训练周期: 12 [25600/60000 (43%)]\tLoss: 0.077351\t训练正确率: 97.44%\t校验正确率: 97.38%\n",
      "(tensor(4867), 5000)\n",
      "训练周期: 12 [32000/60000 (53%)]\tLoss: 0.168332\t训练正确率: 97.43%\t校验正确率: 97.34%\n",
      "(tensor(4858), 5000)\n",
      "训练周期: 12 [38400/60000 (64%)]\tLoss: 0.027232\t训练正确率: 97.43%\t校验正确率: 97.16%\n",
      "(tensor(4840), 5000)\n",
      "训练周期: 12 [44800/60000 (75%)]\tLoss: 0.059124\t训练正确率: 97.45%\t校验正确率: 96.80%\n",
      "(tensor(4871), 5000)\n",
      "训练周期: 12 [51200/60000 (85%)]\tLoss: 0.087260\t训练正确率: 97.41%\t校验正确率: 97.42%\n",
      "(tensor(4868), 5000)\n",
      "训练周期: 12 [57600/60000 (96%)]\tLoss: 0.068458\t训练正确率: 97.41%\t校验正确率: 97.36%\n",
      "(tensor(4858), 5000)\n",
      "训练周期: 13 [0/60000 (0%)]\tLoss: 0.025632\t训练正确率: 98.44%\t校验正确率: 97.16%\n",
      "(tensor(4865), 5000)\n",
      "训练周期: 13 [6400/60000 (11%)]\tLoss: 0.034805\t训练正确率: 97.68%\t校验正确率: 97.30%\n",
      "(tensor(4868), 5000)\n",
      "训练周期: 13 [12800/60000 (21%)]\tLoss: 0.030617\t训练正确率: 97.70%\t校验正确率: 97.36%\n",
      "(tensor(4874), 5000)\n",
      "训练周期: 13 [19200/60000 (32%)]\tLoss: 0.052975\t训练正确率: 97.70%\t校验正确率: 97.48%\n",
      "(tensor(4866), 5000)\n",
      "训练周期: 13 [25600/60000 (43%)]\tLoss: 0.110998\t训练正确率: 97.62%\t校验正确率: 97.32%\n",
      "(tensor(4873), 5000)\n",
      "训练周期: 13 [32000/60000 (53%)]\tLoss: 0.126513\t训练正确率: 97.61%\t校验正确率: 97.46%\n",
      "(tensor(4860), 5000)\n",
      "训练周期: 13 [38400/60000 (64%)]\tLoss: 0.065494\t训练正确率: 97.63%\t校验正确率: 97.20%\n",
      "(tensor(4883), 5000)\n",
      "训练周期: 13 [44800/60000 (75%)]\tLoss: 0.165887\t训练正确率: 97.57%\t校验正确率: 97.66%\n",
      "(tensor(4869), 5000)\n",
      "训练周期: 13 [51200/60000 (85%)]\tLoss: 0.070509\t训练正确率: 97.56%\t校验正确率: 97.38%\n",
      "(tensor(4888), 5000)\n",
      "训练周期: 13 [57600/60000 (96%)]\tLoss: 0.053308\t训练正确率: 97.55%\t校验正确率: 97.76%\n",
      "(tensor(4874), 5000)\n",
      "训练周期: 14 [0/60000 (0%)]\tLoss: 0.024493\t训练正确率: 100.00%\t校验正确率: 97.48%\n",
      "(tensor(4882), 5000)\n",
      "训练周期: 14 [6400/60000 (11%)]\tLoss: 0.163292\t训练正确率: 97.94%\t校验正确率: 97.64%\n",
      "(tensor(4873), 5000)\n",
      "训练周期: 14 [12800/60000 (21%)]\tLoss: 0.023573\t训练正确率: 97.76%\t校验正确率: 97.46%\n",
      "(tensor(4874), 5000)\n",
      "训练周期: 14 [19200/60000 (32%)]\tLoss: 0.275197\t训练正确率: 97.77%\t校验正确率: 97.48%\n",
      "(tensor(4879), 5000)\n",
      "训练周期: 14 [25600/60000 (43%)]\tLoss: 0.016606\t训练正确率: 97.69%\t校验正确率: 97.58%\n",
      "(tensor(4884), 5000)\n",
      "训练周期: 14 [32000/60000 (53%)]\tLoss: 0.032216\t训练正确率: 97.69%\t校验正确率: 97.68%\n",
      "(tensor(4880), 5000)\n",
      "训练周期: 14 [38400/60000 (64%)]\tLoss: 0.039380\t训练正确率: 97.64%\t校验正确率: 97.60%\n",
      "(tensor(4882), 5000)\n",
      "训练周期: 14 [44800/60000 (75%)]\tLoss: 0.022556\t训练正确率: 97.65%\t校验正确率: 97.64%\n",
      "(tensor(4872), 5000)\n",
      "训练周期: 14 [51200/60000 (85%)]\tLoss: 0.015138\t训练正确率: 97.65%\t校验正确率: 97.44%\n",
      "(tensor(4866), 5000)\n",
      "训练周期: 14 [57600/60000 (96%)]\tLoss: 0.122200\t训练正确率: 97.65%\t校验正确率: 97.32%\n",
      "(tensor(4886), 5000)\n",
      "训练周期: 15 [0/60000 (0%)]\tLoss: 0.016818\t训练正确率: 100.00%\t校验正确率: 97.72%\n",
      "(tensor(4871), 5000)\n",
      "训练周期: 15 [6400/60000 (11%)]\tLoss: 0.012987\t训练正确率: 97.80%\t校验正确率: 97.42%\n",
      "(tensor(4878), 5000)\n",
      "训练周期: 15 [12800/60000 (21%)]\tLoss: 0.106332\t训练正确率: 97.82%\t校验正确率: 97.56%\n",
      "(tensor(4873), 5000)\n",
      "训练周期: 15 [19200/60000 (32%)]\tLoss: 0.163534\t训练正确率: 97.75%\t校验正确率: 97.46%\n",
      "(tensor(4879), 5000)\n",
      "训练周期: 15 [25600/60000 (43%)]\tLoss: 0.063791\t训练正确率: 97.79%\t校验正确率: 97.58%\n",
      "(tensor(4882), 5000)\n",
      "训练周期: 15 [32000/60000 (53%)]\tLoss: 0.066654\t训练正确率: 97.76%\t校验正确率: 97.64%\n",
      "(tensor(4884), 5000)\n",
      "训练周期: 15 [38400/60000 (64%)]\tLoss: 0.034266\t训练正确率: 97.76%\t校验正确率: 97.68%\n",
      "(tensor(4881), 5000)\n",
      "训练周期: 15 [44800/60000 (75%)]\tLoss: 0.042675\t训练正确率: 97.74%\t校验正确率: 97.62%\n",
      "(tensor(4876), 5000)\n",
      "训练周期: 15 [51200/60000 (85%)]\tLoss: 0.153134\t训练正确率: 97.71%\t校验正确率: 97.52%\n",
      "(tensor(4882), 5000)\n",
      "训练周期: 15 [57600/60000 (96%)]\tLoss: 0.157272\t训练正确率: 97.71%\t校验正确率: 97.64%\n",
      "(tensor(4887), 5000)\n",
      "训练周期: 16 [0/60000 (0%)]\tLoss: 0.018987\t训练正确率: 100.00%\t校验正确率: 97.74%\n",
      "(tensor(4867), 5000)\n",
      "训练周期: 16 [6400/60000 (11%)]\tLoss: 0.083990\t训练正确率: 97.63%\t校验正确率: 97.34%\n",
      "(tensor(4870), 5000)\n",
      "训练周期: 16 [12800/60000 (21%)]\tLoss: 0.048186\t训练正确率: 97.84%\t校验正确率: 97.40%\n",
      "(tensor(4875), 5000)\n",
      "训练周期: 16 [19200/60000 (32%)]\tLoss: 0.038007\t训练正确率: 97.79%\t校验正确率: 97.50%\n",
      "(tensor(4875), 5000)\n",
      "训练周期: 16 [25600/60000 (43%)]\tLoss: 0.094730\t训练正确率: 97.78%\t校验正确率: 97.50%\n",
      "(tensor(4873), 5000)\n",
      "训练周期: 16 [32000/60000 (53%)]\tLoss: 0.025402\t训练正确率: 97.78%\t校验正确率: 97.46%\n",
      "(tensor(4885), 5000)\n",
      "训练周期: 16 [38400/60000 (64%)]\tLoss: 0.060997\t训练正确率: 97.82%\t校验正确率: 97.70%\n",
      "(tensor(4876), 5000)\n",
      "训练周期: 16 [44800/60000 (75%)]\tLoss: 0.159482\t训练正确率: 97.83%\t校验正确率: 97.52%\n",
      "(tensor(4885), 5000)\n",
      "训练周期: 16 [51200/60000 (85%)]\tLoss: 0.042171\t训练正确率: 97.85%\t校验正确率: 97.70%\n",
      "(tensor(4891), 5000)\n",
      "训练周期: 16 [57600/60000 (96%)]\tLoss: 0.128852\t训练正确率: 97.84%\t校验正确率: 97.82%\n",
      "(tensor(4876), 5000)\n",
      "训练周期: 17 [0/60000 (0%)]\tLoss: 0.110085\t训练正确率: 96.88%\t校验正确率: 97.52%\n",
      "(tensor(4877), 5000)\n",
      "训练周期: 17 [6400/60000 (11%)]\tLoss: 0.166752\t训练正确率: 97.59%\t校验正确率: 97.54%\n",
      "(tensor(4885), 5000)\n",
      "训练周期: 17 [12800/60000 (21%)]\tLoss: 0.022613\t训练正确率: 97.81%\t校验正确率: 97.70%\n",
      "(tensor(4883), 5000)\n",
      "训练周期: 17 [19200/60000 (32%)]\tLoss: 0.136531\t训练正确率: 97.86%\t校验正确率: 97.66%\n",
      "(tensor(4892), 5000)\n",
      "训练周期: 17 [25600/60000 (43%)]\tLoss: 0.232111\t训练正确率: 97.88%\t校验正确率: 97.84%\n",
      "(tensor(4894), 5000)\n",
      "训练周期: 17 [32000/60000 (53%)]\tLoss: 0.134526\t训练正确率: 97.84%\t校验正确率: 97.88%\n",
      "(tensor(4890), 5000)\n",
      "训练周期: 17 [38400/60000 (64%)]\tLoss: 0.029339\t训练正确率: 97.81%\t校验正确率: 97.80%\n",
      "(tensor(4893), 5000)\n",
      "训练周期: 17 [44800/60000 (75%)]\tLoss: 0.068077\t训练正确率: 97.82%\t校验正确率: 97.86%\n",
      "(tensor(4890), 5000)\n",
      "训练周期: 17 [51200/60000 (85%)]\tLoss: 0.030703\t训练正确率: 97.84%\t校验正确率: 97.80%\n",
      "(tensor(4873), 5000)\n",
      "训练周期: 17 [57600/60000 (96%)]\tLoss: 0.058765\t训练正确率: 97.85%\t校验正确率: 97.46%\n",
      "(tensor(4891), 5000)\n",
      "训练周期: 18 [0/60000 (0%)]\tLoss: 0.009098\t训练正确率: 100.00%\t校验正确率: 97.82%\n",
      "(tensor(4897), 5000)\n",
      "训练周期: 18 [6400/60000 (11%)]\tLoss: 0.089499\t训练正确率: 98.08%\t校验正确率: 97.94%\n",
      "(tensor(4880), 5000)\n",
      "训练周期: 18 [12800/60000 (21%)]\tLoss: 0.024194\t训练正确率: 98.05%\t校验正确率: 97.60%\n",
      "(tensor(4890), 5000)\n",
      "训练周期: 18 [19200/60000 (32%)]\tLoss: 0.043312\t训练正确率: 97.94%\t校验正确率: 97.80%\n",
      "(tensor(4887), 5000)\n",
      "训练周期: 18 [25600/60000 (43%)]\tLoss: 0.112033\t训练正确率: 97.89%\t校验正确率: 97.74%\n",
      "(tensor(4879), 5000)\n",
      "训练周期: 18 [32000/60000 (53%)]\tLoss: 0.074898\t训练正确率: 97.91%\t校验正确率: 97.58%\n",
      "(tensor(4891), 5000)\n",
      "训练周期: 18 [38400/60000 (64%)]\tLoss: 0.019379\t训练正确率: 97.98%\t校验正确率: 97.82%\n",
      "(tensor(4883), 5000)\n",
      "训练周期: 18 [44800/60000 (75%)]\tLoss: 0.038555\t训练正确率: 98.03%\t校验正确率: 97.66%\n",
      "(tensor(4880), 5000)\n",
      "训练周期: 18 [51200/60000 (85%)]\tLoss: 0.049998\t训练正确率: 98.02%\t校验正确率: 97.60%\n",
      "(tensor(4898), 5000)\n",
      "训练周期: 18 [57600/60000 (96%)]\tLoss: 0.028800\t训练正确率: 98.03%\t校验正确率: 97.96%\n",
      "(tensor(4896), 5000)\n",
      "训练周期: 19 [0/60000 (0%)]\tLoss: 0.023813\t训练正确率: 98.44%\t校验正确率: 97.92%\n",
      "(tensor(4888), 5000)\n",
      "训练周期: 19 [6400/60000 (11%)]\tLoss: 0.126245\t训练正确率: 97.83%\t校验正确率: 97.76%\n",
      "(tensor(4899), 5000)\n",
      "训练周期: 19 [12800/60000 (21%)]\tLoss: 0.132825\t训练正确率: 97.99%\t校验正确率: 97.98%\n",
      "(tensor(4891), 5000)\n",
      "训练周期: 19 [19200/60000 (32%)]\tLoss: 0.033678\t训练正确率: 98.02%\t校验正确率: 97.82%\n",
      "(tensor(4890), 5000)\n",
      "训练周期: 19 [25600/60000 (43%)]\tLoss: 0.177229\t训练正确率: 98.04%\t校验正确率: 97.80%\n",
      "(tensor(4898), 5000)\n",
      "训练周期: 19 [32000/60000 (53%)]\tLoss: 0.012055\t训练正确率: 98.01%\t校验正确率: 97.96%\n",
      "(tensor(4881), 5000)\n",
      "训练周期: 19 [38400/60000 (64%)]\tLoss: 0.108234\t训练正确率: 98.03%\t校验正确率: 97.62%\n",
      "(tensor(4887), 5000)\n",
      "训练周期: 19 [44800/60000 (75%)]\tLoss: 0.049982\t训练正确率: 98.04%\t校验正确率: 97.74%\n",
      "(tensor(4881), 5000)\n",
      "训练周期: 19 [51200/60000 (85%)]\tLoss: 0.130142\t训练正确率: 98.02%\t校验正确率: 97.62%\n",
      "(tensor(4891), 5000)\n",
      "训练周期: 19 [57600/60000 (96%)]\tLoss: 0.095738\t训练正确率: 98.02%\t校验正确率: 97.82%\n"
     ]
    }
   ],
   "source": [
    "net = ConvNet() #新建一个卷积神经网络的实例，此时ConvNet的__init__函数就会被自动调用\n",
    "\n",
    "criterion = nn.CrossEntropyLoss() #Loss函数的定义，交叉熵\n",
    "optimizer = optim.SGD(net.parameters(), lr=0.001, momentum=0.9) #定义优化器，普通的随机梯度下降算法\n",
    "\n",
    "record = [] #记录准确率等数值的容器\n",
    "weights = [] #每若干步就记录一次卷积核\n",
    "\n",
    "#开始训练循环\n",
    "for epoch in range(num_epochs):\n",
    "    \n",
    "    train_rights = [] #记录训练数据集准确率的容器\n",
    "    \n",
    "    ''' 下面的enumerate是构造一个枚举器的作用。就是我们在对train_loader做循环迭代的时候，enumerate会自动吐出一个数字指示我们循环了几次\n",
    "     这个数字就被记录在了batch_idx之中，它就等于0，1，2，……\n",
    "     train_loader每迭代一次，就会吐出来一对数据data和target，分别对应着一个batch中的手写数字图，以及对应的标签。'''\n",
    "    \n",
    "    for batch_idx, (data, target) in enumerate(train_loader):  #针对容器中的每一个批进行循环\n",
    "        data, target = data.clone().requires_grad_(True), target.clone().detach()  #data为一批图像，target为一批标签\n",
    "        net.train() # 给网络模型做标记，标志说模型正在训练集上训练，\n",
    "                    #这种区分主要是为了打开关闭net的training标志，从而决定是否运行dropout\n",
    "            \n",
    "        output = net(data) #神经网络完成一次前馈的计算过程，得到预测输出output\n",
    "        loss = criterion(output, target) #将output与标签target比较，计算误差\n",
    "        optimizer.zero_grad() #清空梯度\n",
    "        loss.backward() #反向传播\n",
    "        optimizer.step() #一步随机梯度下降算法\n",
    "        right = rightness(output, target) #计算准确率所需数值，返回数值为（正确样例数，总样本数）\n",
    "        train_rights.append(right) #将计算结果装到列表容器train_rights中\n",
    "\n",
    "        \n",
    "        if batch_idx % 100 == 0: #每间隔100个batch执行一次打印等操作\n",
    "            \n",
    "            net.eval() # 给网络模型做标记，标志说模型在训练集上训练\n",
    "            val_rights = [] #记录校验数据集准确率的容器\n",
    "            \n",
    "            '''开始在校验数据集上做循环，计算校验集上面的准确度'''\n",
    "            for (data, target) in validation_loader:\n",
    "                data, target = data.clone().requires_grad_(True), target.clone().detach()\n",
    "                output = net(data) #完成一次前馈计算过程，得到目前训练得到的模型net在校验数据集上的表现\n",
    "                right = rightness(output, target) #计算准确率所需数值，返回正确的数值为（正确样例数，总样本数）\n",
    "                val_rights.append(right)\n",
    "            \n",
    "            # 分别计算在目前已经计算过的测试数据集，以及全部校验集上模型的表现：分类准确率\n",
    "            #train_r为一个二元组，分别记录目前已经经历过的所有训练集中分类正确的数量和该集合中总的样本数，\n",
    "            #train_r[0]/train_r[1]就是训练集的分类准确度，同样，val_r[0]/val_r[1]就是校验集上的分类准确度\n",
    "            train_r = (sum([tup[0] for tup in train_rights]), sum([tup[1] for tup in train_rights]))\n",
    "            #val_r为一个二元组，分别记录校验集中分类正确的数量和该集合中总的样本数\n",
    "            val_r = (sum([tup[0] for tup in val_rights]), sum([tup[1] for tup in val_rights]))\n",
    "            #打印准确率等数值，其中正确率为本训练周期Epoch开始后到目前撮的正确率的平均值\n",
    "            print(val_r)\n",
    "            print('训练周期: {} [{}/{} ({:.0f}%)]\\tLoss: {:.6f}\\t训练正确率: {:.2f}%\\t校验正确率: {:.2f}%'.format(\n",
    "                epoch, batch_idx * batch_size, len(train_loader.dataset),\n",
    "                100. * batch_idx / len(train_loader), \n",
    "                loss.data, \n",
    "                100. * train_r[0].numpy() / train_r[1], \n",
    "                100. * val_r[0].numpy() / val_r[1]))\n",
    "            \n",
    "            #将准确率和权重等数值加载到容器中，以方便后续处理\n",
    "            record.append((100 - 100. * train_r[0] / train_r[1], 100 - 100. * val_r[0] / val_r[1]))\n",
    "            \n",
    "            # weights记录了训练周期中所有卷积核的演化过程。net.conv1.weight就提取出了第一层卷积核的权重\n",
    "            # clone的意思就是将weight.data中的数据做一个拷贝放到列表中，否则当weight.data变化的时候，列表中的每一项数值也会联动\n",
    "            '''这里使用clone这个函数很重要'''\n",
    "            weights.append([net.conv1.weight.data.clone(), net.conv1.bias.data.clone(), \n",
    "                            net.conv2.weight.data.clone(), net.conv2.bias.data.clone()])"
   ]
  },
  {
   "cell_type": "code",
   "execution_count": 9,
   "id": "1282b4e5-bc00-4b92-9b6a-21d22f43e4ae",
   "metadata": {},
   "outputs": [
    {
     "data": {
      "text/plain": [
       "Text(0, 0.5, 'Error rate')"
      ]
     },
     "execution_count": 9,
     "metadata": {},
     "output_type": "execute_result"
    },
    {
     "data": {
      "image/png": "[encoded data removed]",
      "text/plain": [
       "<Figure size 1000x700 with 1 Axes>"
      ]
     },
     "metadata": {},
     "output_type": "display_data"
    }
   ],
   "source": [
    "#绘制训练过程的误差曲线，校验集和测试集上的错误率。\n",
    "plt.figure(figsize = (10, 7))\n",
    "plt.plot(record) #record记载了每一个打印周期记录的训练和校验数据集上的准确度\n",
    "plt.xlabel('Steps')\n",
    "plt.ylabel('Error rate')"
   ]
  },
  {
   "cell_type": "markdown",
   "id": "df62488f-e341-420b-a718-78ff54ac5f82",
   "metadata": {},
   "source": [
    "### 2.3 在测试集上进行分类"
   ]
  },
  {
   "cell_type": "code",
   "execution_count": 10,
   "id": "f914c404-9a3c-4302-aeb7-60890b7b7fa8",
   "metadata": {},
   "outputs": [
    {
     "name": "stdout",
     "output_type": "stream",
     "text": [
      "99.08\n"
     ]
    }
   ],
   "source": [
    "#在测试集上分批运行，并计算总的正确率\n",
    "net.eval() #标志模型当前为运行阶段\n",
    "vals = [] #记录准确率所用列表\n",
    "\n",
    "#对测试数据集进行循环\n",
    "for data, target in test_loader:\n",
    "    data, target = data.clone().detach().requires_grad_(True), target.clone().detach()\n",
    "    output = net(data) #将特征数据喂入网络，得到分类的输出\n",
    "    val = rightness(output, target) #获得正确样本数以及总样本数\n",
    "    vals.append(val) #记录结果\n",
    "\n",
    "#计算准确率\n",
    "rights = (sum([tup[0] for tup in vals]), sum([tup[1] for tup in vals]))\n",
    "right_rate = 100. * rights[0].numpy() / rights[1]\n",
    "print(right_rate)"
   ]
  },
  {
   "cell_type": "code",
   "execution_count": 11,
   "id": "116555f3-e9a2-48e8-bc0c-17f8fbb8d3ac",
   "metadata": {},
   "outputs": [
    {
     "name": "stdout",
     "output_type": "stream",
     "text": [
      "标签是： 9\n"
     ]
    },
    {
     "data": {
      "image/png": "[encoded data removed]",
      "text/plain": [
       "<Figure size 640x480 with 1 Axes>"
      ]
     },
     "metadata": {},
     "output_type": "display_data"
    }
   ],
   "source": [
    "#随便从测试集中读入一张图片，并检验模型的分类结果，并绘制出来\n",
    "idx = 4000\n",
    "muteimg = test_dataset[idx][0].numpy()\n",
    "plt.imshow(muteimg[0,...])\n",
    "print('标签是：',test_dataset[idx][1])"
   ]
  },
  {
   "cell_type": "markdown",
   "id": "6deb9a4e-5ec0-4137-9afc-0dfb471dfc1b",
   "metadata": {},
   "source": [
    "## 三、解剖卷积神经网络\n",
    "```\n",
    "第一层卷积核训练得到了什么；\n",
    "第一层卷积核是如何在训练的过程中随着时间的演化而发生变化\n",
    "在输入特定图像的时候，第一层卷积核所对应的4个featuremap是什么样子\n",
    "第二层卷积核都是什么东西？\n",
    "对于给定输入图像，第二层卷积核所对应的那些featuremaps都是什么样？\n",
    "```"
   ]
  },
  {
   "cell_type": "markdown",
   "id": "63a094a9-ad4f-4e32-8434-407607f61c8d",
   "metadata": {},
   "source": [
    "### 3.1 第一层卷积核、演化与特征图\n",
    "#### 第一层卷积核"
   ]
  },
  {
   "cell_type": "code",
   "execution_count": 12,
   "id": "716bee85-8e3f-4fb8-a21c-ffc49e0a0275",
   "metadata": {},
   "outputs": [
    {
     "data": {
      "text/plain": [
       "<AxesSubplot:>"
      ]
     },
     "execution_count": 12,
     "metadata": {},
     "output_type": "execute_result"
    },
    {
     "data": {
      "image/png": "[encoded data removed]",
      "text/plain": [
       "<Figure size 1000x700 with 4 Axes>"
      ]
     },
     "metadata": {},
     "output_type": "display_data"
    }
   ],
   "source": [
    "#提取第一层卷积层的卷积核\n",
    "plt.figure(figsize = (10, 7))\n",
    "for i in range(4):\n",
    "    plt.subplot(1,4,i + 1)\n",
    "    plt.axis('off')\n",
    "    plt.imshow(net.conv1.weight.data.numpy()[i,0,...]) #提取第一层卷积核中的权重值，注意conv1是net的属性\n",
    "plt.subplot(1,4,2)"
   ]
  },
  {
   "cell_type": "code",
   "execution_count": 13,
   "id": "6ca43f77-ff47-47d7-9053-451d40ab306e",
   "metadata": {},
   "outputs": [
    {
     "data": {
      "text/plain": [
       "array([[[[ 0.06890658, -0.25296578, -0.39235854,  0.00791539,\n",
       "           0.10839915],\n",
       "         [-0.04883516, -0.10576265, -0.3019021 , -0.14985357,\n",
       "           0.31126282],\n",
       "         [-0.11701103,  0.03801969,  0.34941962,  0.21404797,\n",
       "           0.31385377],\n",
       "         [ 0.41464725,  0.50155896,  0.6368758 ,  0.6628452 ,\n",
       "           0.58107555],\n",
       "         [ 0.36503467,  0.59336734,  0.33660865,  0.57101023,\n",
       "           0.14133282]]],\n",
       "\n",
       "\n",
       "       [[[ 0.2288169 ,  0.43993258,  0.44924664, -0.04854594,\n",
       "          -0.31085664],\n",
       "         [ 0.4541966 ,  0.79149413,  0.41548517,  0.20973349,\n",
       "           0.02872887],\n",
       "         [ 0.5351003 ,  1.0609764 ,  0.7959748 ,  0.6004339 ,\n",
       "           0.00233245],\n",
       "         [ 0.7697755 ,  1.2417965 ,  1.06873   ,  0.73947114,\n",
       "           0.34526908],\n",
       "         [ 0.27932584,  0.691498  ,  0.38149828,  0.55087715,\n",
       "           0.28963667]]],\n",
       "\n",
       "\n",
       "       [[[ 0.03527572,  0.23001042,  0.06673548,  0.13773009,\n",
       "          -0.22675315],\n",
       "         [ 0.02851397,  0.01554208,  0.06130337, -0.09720853,\n",
       "          -0.15822224],\n",
       "         [ 0.3731986 ,  0.25557816,  0.05557868, -0.02985939,\n",
       "           0.03691173],\n",
       "         [ 0.12162375,  0.07848231, -0.19382556, -0.24468982,\n",
       "          -0.17860287],\n",
       "         [ 0.3534989 ,  0.04686862, -0.21646886,  0.07567859,\n",
       "          -0.24350733]]],\n",
       "\n",
       "\n",
       "       [[[ 0.05219286,  0.2870542 ,  0.05412091,  0.14758442,\n",
       "           0.2151348 ],\n",
       "         [-0.1410089 ,  0.22952877,  0.15420328,  0.02882513,\n",
       "          -0.08068674],\n",
       "         [-0.1827627 , -0.14464863, -0.11975548, -0.1086884 ,\n",
       "          -0.18121365],\n",
       "         [-0.17237173, -0.10644314,  0.06193627,  0.10810526,\n",
       "          -0.14350027],\n",
       "         [ 0.16700082, -0.16592017, -0.03044075, -0.13511585,\n",
       "           0.00124399]]]], dtype=float32)"
      ]
     },
     "execution_count": 13,
     "metadata": {},
     "output_type": "execute_result"
    }
   ],
   "source": [
    "net.conv1.weight.data.numpy()"
   ]
  },
  {
   "cell_type": "markdown",
   "id": "3b8f6a23-ffd6-4571-bfbf-094f8ba3f8f5",
   "metadata": {},
   "source": [
    "### 滤波器的演化"
   ]
  },
  {
   "cell_type": "code",
   "execution_count": 14,
   "id": "5e2d4c92-6ddf-491b-ba0b-ddbe95a58664",
   "metadata": {},
   "outputs": [
    {
     "data": {
      "image/png": "[encoded data removed]",
      "text/plain": [
       "<Figure size 1000x700 with 4 Axes>"
      ]
     },
     "metadata": {},
     "output_type": "display_data"
    },
    {
     "data": {
      "image/png": "[encoded data removed]",
      "text/plain": [
       "<Figure size 1000x700 with 4 Axes>"
      ]
     },
     "metadata": {},
     "output_type": "display_data"
    },
    {
     "data": {
      "image/png": "[encoded data removed]",
      "text/plain": [
       "<Figure size 1000x700 with 4 Axes>"
      ]
     },
     "metadata": {},
     "output_type": "display_data"
    },
    {
     "data": {
      "image/png": "[encoded data removed]",
      "text/plain": [
       "<Figure size 1000x700 with 4 Axes>"
      ]
     },
     "metadata": {},
     "output_type": "display_data"
    },
    {
     "data": {
      "image/png": "[encoded data removed]",
      "text/plain": [
       "<Figure size 1000x700 with 4 Axes>"
      ]
     },
     "metadata": {},
     "output_type": "display_data"
    },
    {
     "data": {
      "image/png": "[encoded data removed]",
      "text/plain": [
       "<Figure size 1000x700 with 4 Axes>"
      ]
     },
     "metadata": {},
     "output_type": "display_data"
    },
    {
     "data": {
      "image/png": "[encoded data removed]",
      "text/plain": [
       "<Figure size 1000x700 with 4 Axes>"
      ]
     },
     "metadata": {},
     "output_type": "display_data"
    },
    {
     "data": {
      "image/png": "[encoded data removed]",
      "text/plain": [
       "<Figure size 1000x700 with 4 Axes>"
      ]
     },
     "metadata": {},
     "output_type": "display_data"
    },
    {
     "data": {
      "image/png": "[encoded data removed]",
      "text/plain": [
       "<Figure size 1000x700 with 4 Axes>"
      ]
     },
     "metadata": {},
     "output_type": "display_data"
    },
    {
     "data": {
      "image/png": "[encoded data removed]",
      "text/plain": [
       "<Figure size 1000x700 with 4 Axes>"
      ]
     },
     "metadata": {},
     "output_type": "display_data"
    },
    {
     "data": {
      "image/png": "[encoded data removed]",
      "text/plain": [
       "<Figure size 1000x700 with 4 Axes>"
      ]
     },
     "metadata": {},
     "output_type": "display_data"
    },
    {
     "data": {
      "image/png": "[encoded data removed]",
      "text/plain": [
       "<Figure size 1000x700 with 4 Axes>"
      ]
     },
     "metadata": {},
     "output_type": "display_data"
    },
    {
     "data": {
      "image/png": "[encoded data removed]",
      "text/plain": [
       "<Figure size 1000x700 with 4 Axes>"
      ]
     },
     "metadata": {},
     "output_type": "display_data"
    },
    {
     "data": {
      "image/png": "[encoded data removed]",
      "text/plain": [
       "<Figure size 1000x700 with 4 Axes>"
      ]
     },
     "metadata": {},
     "output_type": "display_data"
    },
    {
     "data": {
      "image/png": "[encoded data removed]",
      "text/plain": [
       "<Figure size 1000x700 with 4 Axes>"
      ]
     },
     "metadata": {},
     "output_type": "display_data"
    },
    {
     "data": {
      "image/png": "[encoded data removed]",
      "text/plain": [
       "<Figure size 1000x700 with 4 Axes>"
      ]
     },
     "metadata": {},
     "output_type": "display_data"
    },
    {
     "data": {
      "image/png": "[encoded data removed]",
      "text/plain": [
       "<Figure size 1000x700 with 4 Axes>"
      ]
     },
     "metadata": {},
     "output_type": "display_data"
    },
    {
     "data": {
      "image/png": "[encoded data removed]",
      "text/plain": [
       "<Figure size 1000x700 with 4 Axes>"
      ]
     },
     "metadata": {},
     "output_type": "display_data"
    },
    {
     "data": {
      "image/png": "[encoded data removed]",
      "text/plain": [
       "<Figure size 1000x700 with 4 Axes>"
      ]
     },
     "metadata": {},
     "output_type": "display_data"
    },
    {
     "data": {
      "image/png": "[encoded data removed]",
      "text/plain": [
       "<Figure size 1000x700 with 4 Axes>"
      ]
     },
     "metadata": {},
     "output_type": "display_data"
    }
   ],
   "source": [
    "# 将记录在容器中的卷积核权重历史演化数据打印出来\n",
    "i = 0\n",
    "for tup in weights:\n",
    "    if i % 10 == 0 :\n",
    "        layer1 = tup[0]\n",
    "        fig = plt.figure(figsize = (10, 7))\n",
    "        for j in range(4):\n",
    "            plt.subplot(1, 4, j + 1)\n",
    "            plt.axis('off')\n",
    "            plt.imshow(layer1.numpy()[j,0,...])\n",
    "    i += 1"
   ]
  },
  {
   "cell_type": "markdown",
   "id": "f30c0598-02e2-476d-bfa0-3f787185754d",
   "metadata": {},
   "source": [
    "### 绘制第一层特征图"
   ]
  },
  {
   "cell_type": "code",
   "execution_count": 15,
   "id": "016d02fd-8f64-4409-98a3-19687bb99842",
   "metadata": {},
   "outputs": [
    {
     "data": {
      "image/png": "[encoded data removed]",
      "text/plain": [
       "<Figure size 1000x700 with 4 Axes>"
      ]
     },
     "metadata": {},
     "output_type": "display_data"
    }
   ],
   "source": [
    "#调用net的retrieve_features方法可以抽取出喂入当前数据后吐出来的所有特征图（第一个卷积和第二个卷积层）\n",
    "\n",
    "#首先定义读入的图片\n",
    "\n",
    "#它是从test_dataset中提取第idx个批次的第0个图，其次unsqueeze的作用是在最前面添加一维，\n",
    "#目的是为了让这个input_x的tensor是四维的，这样才能输入给net。补充的那一维表示batch。\n",
    "input_x = test_dataset[idx][0].unsqueeze(0) \n",
    "feature_maps = net.retrieve_features(input_x) #feature_maps是有两个元素的列表，分别表示第一层和第二层卷积的所有特征图\n",
    "\n",
    "plt.figure(figsize = (10, 7))\n",
    "\n",
    "#有四个特征图，循环把它们打印出来\n",
    "for i in range(4):\n",
    "    plt.subplot(1,4,i + 1)\n",
    "    plt.axis('off')\n",
    "    plt.imshow(feature_maps[0][0, i,...].data.numpy())\n",
    "    "
   ]
  },
  {
   "cell_type": "markdown",
   "id": "2ab80613-0503-4144-ad54-40e7d8e23778",
   "metadata": {},
   "source": [
    " ### 3.2 绘制第二层卷积核与特征图"
   ]
  },
  {
   "cell_type": "code",
   "execution_count": 16,
   "id": "5b4595a4-168f-4f47-b3a2-aadef2ba2153",
   "metadata": {},
   "outputs": [
    {
     "data": {
      "image/png": "[encoded data removed]",
      "text/plain": [
       "<Figure size 1500x1000 with 32 Axes>"
      ]
     },
     "metadata": {},
     "output_type": "display_data"
    }
   ],
   "source": [
    "# 绘制第二层的卷积核，每一列对应一个卷积核，一共8个卷积核\n",
    "plt.figure(figsize = (15, 10))\n",
    "for i in range(4):\n",
    "    for j in range(8):\n",
    "        plt.subplot(4, 8, i * 8 + j + 1)\n",
    "        plt.axis('off')\n",
    "        plt.imshow(net.conv2.weight.data.numpy()[j, i,...])"
   ]
  },
  {
   "cell_type": "code",
   "execution_count": 17,
   "id": "6ebb9522-127f-45d1-b6c1-b04e9608edef",
   "metadata": {},
   "outputs": [
    {
     "data": {
      "image/png": "[encoded data removed]",
      "text/plain": [
       "<Figure size 1000x700 with 8 Axes>"
      ]
     },
     "metadata": {},
     "output_type": "display_data"
    }
   ],
   "source": [
    "# 绘制第二层的特征图，一共八个\n",
    "plt.figure(figsize = (10, 7))\n",
    "for i in range(8):\n",
    "    plt.subplot(2,4,i + 1)\n",
    "    plt.axis('off')\n",
    "    plt.imshow(feature_maps[1][0, i,...].data.numpy())\n",
    "    "
   ]
  },
  {
   "cell_type": "code",
   "execution_count": null,
   "id": "011dfc58-47f4-479f-b590-7e189fa506c0",
   "metadata": {},
   "outputs": [],
   "source": []
  }
 ],
 "metadata": {
  "kernelspec": {
   "display_name": "Python 3 (ipykernel)",
   "language": "python",
   "name": "python3"
  },
  "language_info": {
   "codemirror_mode": {
    "name": "ipython",
    "version": 3
   },
   "file_extension": ".py",
   "mimetype": "text/x-python",
   "name": "python",
   "nbconvert_exporter": "python",
   "pygments_lexer": "ipython3",
   "version": "3.9.12"
  }
 },
 "nbformat": 4,
 "nbformat_minor": 5
}
